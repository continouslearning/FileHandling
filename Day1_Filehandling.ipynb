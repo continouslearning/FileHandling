{
  "nbformat": 4,
  "nbformat_minor": 0,
  "metadata": {
    "colab": {
      "provenance": []
    },
    "kernelspec": {
      "name": "python3",
      "display_name": "Python 3"
    },
    "language_info": {
      "name": "python"
    }
  },
  "cells": [
    {
      "cell_type": "code",
      "source": [
        "# Read the content from the file\n",
        "f1 = open(\"aaa.txt\",\"r\")\n",
        "data = f1.read()\n",
        "print(data)\n",
        "f1.close()"
      ],
      "metadata": {
        "colab": {
          "base_uri": "https://localhost:8080/"
        },
        "id": "-RDCbZ6AwNsP",
        "outputId": "315ceb8c-251e-4330-e5a4-45d49690b087"
      },
      "execution_count": 84,
      "outputs": [
        {
          "output_type": "stream",
          "name": "stdout",
          "text": [
            "NTT Data\n"
          ]
        }
      ]
    },
    {
      "cell_type": "code",
      "source": [
        "print(f1)"
      ],
      "metadata": {
        "colab": {
          "base_uri": "https://localhost:8080/"
        },
        "id": "mGLqWbL7xqWV",
        "outputId": "67d912a9-5102-49b5-8a26-6efea0f67a82"
      },
      "execution_count": 76,
      "outputs": [
        {
          "output_type": "stream",
          "name": "stdout",
          "text": [
            "<_io.TextIOWrapper name='aaa.txt' mode='r' encoding='UTF-8'>\n"
          ]
        }
      ]
    },
    {
      "cell_type": "code",
      "source": [
        "f3 = open (\"aaa.txt\", \"w\")\n",
        "print(\"File Name: \",f3.name)\n",
        "print(\"File Mode: \",f3.mode)\n",
        "print(\"File Encoding : \",f3.encoding)\n",
        "print(\"Is file closed already?: \",f3.closed)\n",
        "f3.close()\n",
        "print(\"Is file closed now?: \",f3.closed)"
      ],
      "metadata": {
        "colab": {
          "base_uri": "https://localhost:8080/"
        },
        "id": "Um2HMpIO1bnc",
        "outputId": "d90f4bf0-13ec-4887-9248-7bea64326169"
      },
      "execution_count": 85,
      "outputs": [
        {
          "output_type": "stream",
          "name": "stdout",
          "text": [
            "File Name:  aaa.txt\n",
            "File Mode:  w\n",
            "File Encoding :  UTF-8\n",
            "Is file closed already?:  False\n",
            "Is file closed now?:  True\n"
          ]
        }
      ]
    },
    {
      "cell_type": "code",
      "source": [
        "f2 = open(\"aaa.txt\", mode = \"r\", buffering = 10, encoding='UTF-8' )\n",
        "if f2:\n",
        "  print(\"File opened successfully\")\n",
        "else:\n",
        "  print(\"File not opened\")"
      ],
      "metadata": {
        "colab": {
          "base_uri": "https://localhost:8080/"
        },
        "id": "MRxs2D8cxr3x",
        "outputId": "bd38484f-8620-4f2f-9805-59f7d844a3e8"
      },
      "execution_count": 78,
      "outputs": [
        {
          "output_type": "stream",
          "name": "stdout",
          "text": [
            "File opened successfully\n"
          ]
        }
      ]
    },
    {
      "cell_type": "code",
      "source": [
        "f3 = open(\"aaa.txt\",'w')\n",
        "print(\"file name is :\", f3.name)\n",
        "print(\"file mode is :\", f3.mode)\n",
        "print(\"file encoding :\", f3.encoding)\n",
        "print(\"is file closed already?\" , f3.closed)\n",
        "f3.close()\n",
        "print(\"is file closed now?\" , f3.closed)"
      ],
      "metadata": {
        "colab": {
          "base_uri": "https://localhost:8080/"
        },
        "id": "6VztUx7o2W7g",
        "outputId": "47a70961-368d-4bf3-d739-53cd4603030b"
      },
      "execution_count": 79,
      "outputs": [
        {
          "output_type": "stream",
          "name": "stdout",
          "text": [
            "file name is : aaa.txt\n",
            "file mode is : w\n",
            "file encoding : UTF-8\n",
            "is file closed already? False\n",
            "is file closed now? True\n"
          ]
        }
      ]
    },
    {
      "cell_type": "code",
      "source": [
        "f4 = open(\"aaa.txt\",\"r\")\n",
        "print(\"Is file Readable?\", f4.readable())\n",
        "print(\"Is file Writable?\", f4.writable())\n",
        "f4.close()"
      ],
      "metadata": {
        "colab": {
          "base_uri": "https://localhost:8080/"
        },
        "id": "qg9MfpAC3H4K",
        "outputId": "de46be33-cbd7-4cd3-a6d3-136ef0e0f568"
      },
      "execution_count": null,
      "outputs": [
        {
          "output_type": "stream",
          "name": "stdout",
          "text": [
            "Is file Readable? True\n",
            "Is file Writable? False\n"
          ]
        }
      ]
    },
    {
      "cell_type": "code",
      "source": [
        "f5 = open(\"aaa.txt\",\"w\")\n",
        "print(\"Is file Readable?\", f5.readable())\n",
        "print(\"Is file Writable?\", f5.writable())\n",
        "f5.close()"
      ],
      "metadata": {
        "colab": {
          "base_uri": "https://localhost:8080/"
        },
        "id": "oWj7YkUy20qI",
        "outputId": "24f757bb-14f8-47c7-82b2-2ad89ac71a69"
      },
      "execution_count": null,
      "outputs": [
        {
          "output_type": "stream",
          "name": "stdout",
          "text": [
            "Is file Readable? False\n",
            "Is file Writable? True\n"
          ]
        }
      ]
    },
    {
      "cell_type": "code",
      "source": [
        "name = \"NTT Data, Bengaluru\"\n",
        "f6 = open(\"aaa.txt\",\"w+\")\n",
        "f6.write(name)\n",
        "f6.seek(0)\n",
        "print(f6.read())\n",
        "f6.close()"
      ],
      "metadata": {
        "colab": {
          "base_uri": "https://localhost:8080/"
        },
        "id": "ahQkfvcJ3-tP",
        "outputId": "601ffb64-1fb6-4930-a9b2-ccdb07eeee4d"
      },
      "execution_count": null,
      "outputs": [
        {
          "output_type": "stream",
          "name": "stdout",
          "text": [
            "NTT Data, Bengaluru\n"
          ]
        }
      ]
    },
    {
      "cell_type": "code",
      "source": [
        "number = int(input(\"enter a number\"))\n",
        "f6 = open(\"aaa.txt\",\"w+\")\n",
        "f6.write(str(number))\n",
        "f6.seek(0)\n",
        "print(f6.read())\n",
        "f6.close()"
      ],
      "metadata": {
        "colab": {
          "base_uri": "https://localhost:8080/"
        },
        "id": "SZerAUOM6XOT",
        "outputId": "4960c445-2f7b-47e2-d967-4542a91730c1"
      },
      "execution_count": null,
      "outputs": [
        {
          "output_type": "stream",
          "name": "stdout",
          "text": [
            "enter a number100\n",
            "100\n"
          ]
        }
      ]
    },
    {
      "cell_type": "code",
      "source": [
        "f7 = open(\"aaa.txt\", \"r\")\n",
        "data = f7.read()\n",
        "print(data)\n",
        "f7.close()"
      ],
      "metadata": {
        "colab": {
          "base_uri": "https://localhost:8080/"
        },
        "id": "EFcXXsqs8J-e",
        "outputId": "cf2f39aa-e6c4-4ef9-8b66-2b5646a3b04c"
      },
      "execution_count": null,
      "outputs": [
        {
          "output_type": "stream",
          "name": "stdout",
          "text": [
            "NTT Data Noida (Line 1)\n",
            "NTT Data Noida (Line 2)\n",
            "NTT Data Noida (Line 3)\n"
          ]
        }
      ]
    },
    {
      "cell_type": "code",
      "source": [
        "f8 = open(\"aaa.txt\", \"rb\")\n",
        "data = f8.read()\n",
        "print(data)\n",
        "f8.close()"
      ],
      "metadata": {
        "colab": {
          "base_uri": "https://localhost:8080/"
        },
        "id": "ZDTGlOSn8UYY",
        "outputId": "091acd2d-ffa0-40eb-c229-824565c7f59b"
      },
      "execution_count": null,
      "outputs": [
        {
          "output_type": "stream",
          "name": "stdout",
          "text": [
            "b'NTT Data Noida (Line 1)\\r\\nNTT Data Noida (Line 2)\\r\\nNTT Data Noida (Line 3)'\n"
          ]
        }
      ]
    },
    {
      "cell_type": "code",
      "source": [
        "f9 = open(\"aaa.txt\", \"r\")\n",
        "data1 = f9.read(5)\n",
        "print(data1)\n",
        "data2 = f9.read(5)\n",
        "print(data2)\n",
        "f9.close()"
      ],
      "metadata": {
        "colab": {
          "base_uri": "https://localhost:8080/"
        },
        "id": "HGTXZd1Z8dhT",
        "outputId": "70e066f0-9a32-4098-f60f-94d8432e1f37"
      },
      "execution_count": null,
      "outputs": [
        {
          "output_type": "stream",
          "name": "stdout",
          "text": [
            "NTT D\n",
            "ata N\n"
          ]
        }
      ]
    },
    {
      "cell_type": "code",
      "source": [
        "f10 = open(\"aaa.txt\", \"r\")\n",
        "data1 = f10.readline()\n",
        "print(data1)\n",
        "data2 = f10.readline()\n",
        "print(data2)\n",
        "data3 = f10.readline()\n",
        "print(data3)\n",
        "f10.close()"
      ],
      "metadata": {
        "colab": {
          "base_uri": "https://localhost:8080/"
        },
        "id": "s-a23E0Z89KB",
        "outputId": "e6bd5dce-5f7e-45f0-861b-6841279e9f5e"
      },
      "execution_count": null,
      "outputs": [
        {
          "output_type": "stream",
          "name": "stdout",
          "text": [
            "NTT Data Noida (Line 1)\n",
            "\n",
            "NTT Data Noida (Line 2)\n",
            "\n",
            "NTT Data Noida (Line 3)\n"
          ]
        }
      ]
    },
    {
      "cell_type": "code",
      "source": [
        "f10 = open(\"aaa.txt\", \"r\")\n",
        "data1 = f10.readline()\n",
        "print(data1, end='')\n",
        "data2 = f10.readline()\n",
        "print(data2, end='')\n",
        "data3 = f10.readline()\n",
        "print(data3, end='')\n",
        "f10.close()"
      ],
      "metadata": {
        "colab": {
          "base_uri": "https://localhost:8080/"
        },
        "id": "xACwa_8Y-LgW",
        "outputId": "1d7561db-6386-40e7-8d2a-b9665295239d"
      },
      "execution_count": null,
      "outputs": [
        {
          "output_type": "stream",
          "name": "stdout",
          "text": [
            "NTT Data Noida (Line 1)\n",
            "NTT Data Noida (Line 2)\n",
            "NTT Data Noida (Line 3)"
          ]
        }
      ]
    },
    {
      "cell_type": "code",
      "source": [
        "f10 = open(\"aaa.txt\", \"r\")\n",
        "#data = f10.read()\n",
        "#print(data)\n",
        "data1 = f10.readline(22)\n",
        "print(data1)\n",
        "data2 = f10.readline()\n",
        "print(data2)\n",
        "data3 = f10.readline()\n",
        "print(data3)\n",
        "f10.close()"
      ],
      "metadata": {
        "colab": {
          "base_uri": "https://localhost:8080/"
        },
        "id": "P7YgNdHu-kpD",
        "outputId": "4f6861ec-ef93-4084-82ad-739d4019ffdb"
      },
      "execution_count": null,
      "outputs": [
        {
          "output_type": "stream",
          "name": "stdout",
          "text": [
            "NTT Data Noida (Line 1\n",
            ")\n",
            "\n",
            "NTT Data Noida (Line 2)\n",
            "\n"
          ]
        }
      ]
    },
    {
      "cell_type": "code",
      "source": [
        "f10 = open(\"aaa.txt\", \"r\")\n",
        "#data = f10.read()\n",
        "#print(data)\n",
        "data1 = f10.readline(23)\n",
        "print(data1)\n",
        "data2 = f10.readline()\n",
        "print(data2)\n",
        "data3 = f10.readline()\n",
        "print(data3)\n",
        "f10.close()"
      ],
      "metadata": {
        "colab": {
          "base_uri": "https://localhost:8080/"
        },
        "id": "nXD0RJ7LAPoB",
        "outputId": "60a5254d-07d1-4f76-8bf0-15261840e41b"
      },
      "execution_count": null,
      "outputs": [
        {
          "output_type": "stream",
          "name": "stdout",
          "text": [
            "NTT Data Noida (Line 1)\n",
            "\n",
            "\n",
            "NTT Data Noida (Line 2)\n",
            "\n"
          ]
        }
      ]
    },
    {
      "cell_type": "code",
      "source": [
        "f10 = open(\"aaa.txt\", \"r\")\n",
        "#data = f10.read()\n",
        "#print(data)\n",
        "data1 = f10.readline(24)\n",
        "print(data1)\n",
        "data2 = f10.readline()\n",
        "print(data2)\n",
        "data3 = f10.readline()\n",
        "print(data3)\n",
        "f10.close()"
      ],
      "metadata": {
        "colab": {
          "base_uri": "https://localhost:8080/"
        },
        "id": "YpLkmZTHATa0",
        "outputId": "eca1fc2b-b04b-4e79-c95d-0febf3c74617"
      },
      "execution_count": null,
      "outputs": [
        {
          "output_type": "stream",
          "name": "stdout",
          "text": [
            "NTT Data Noida (Line 1)\n",
            "\n",
            "NTT Data Noida (Line 2)\n",
            "\n",
            "NTT Data Noida (Line 3)\n"
          ]
        }
      ]
    },
    {
      "cell_type": "code",
      "source": [
        "f11 = open(\"aaa.txt\", \"r\")\n",
        "data1 = f11.readlines()\n",
        "print(data1)\n",
        "f11.close()"
      ],
      "metadata": {
        "colab": {
          "base_uri": "https://localhost:8080/"
        },
        "id": "m18cnfvnBA5_",
        "outputId": "a66f5ca6-e4ec-4572-e089-e6d8caf08a45"
      },
      "execution_count": null,
      "outputs": [
        {
          "output_type": "stream",
          "name": "stdout",
          "text": [
            "['NTT Data Noida (Line 1)\\n', 'NTT Data Noida (Line 2)\\n', 'NTT Data Noida (Line 3)\\n']\n"
          ]
        }
      ]
    },
    {
      "cell_type": "code",
      "source": [
        "f11 = open(\"aaa.txt\", \"r\")\n",
        "data1 = f11.readlines()\n",
        "print(data1)\n",
        "\n",
        "for i in data1:\n",
        "  print(i)\n",
        "f11.close()"
      ],
      "metadata": {
        "colab": {
          "base_uri": "https://localhost:8080/"
        },
        "id": "1JzWLE6bBnsc",
        "outputId": "b93c2992-bc51-4392-8c46-7e0e74c28a68"
      },
      "execution_count": null,
      "outputs": [
        {
          "output_type": "stream",
          "name": "stdout",
          "text": [
            "['NTT Data Noida (Line 1)\\n', 'NTT Data Noida (Line 2)\\n', 'NTT Data Noida (Line 3)\\n']\n",
            "NTT Data Noida (Line 1)\n",
            "\n",
            "NTT Data Noida (Line 2)\n",
            "\n",
            "NTT Data Noida (Line 3)\n",
            "\n"
          ]
        }
      ]
    }
  ]
}