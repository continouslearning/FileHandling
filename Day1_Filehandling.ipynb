{
  "nbformat": 4,
  "nbformat_minor": 0,
  "metadata": {
    "colab": {
      "provenance": []
    },
    "kernelspec": {
      "name": "python3",
      "display_name": "Python 3"
    },
    "language_info": {
      "name": "python"
    }
  },
  "cells": [
    {
      "cell_type": "code",
      "source": [
        "# Write a text in a file\n",
        "text = \"NTTdata\"\n",
        "f = open(\"aaa.txt\",\"w\")\n",
        "f.write(text)\n",
        "f.close()"
      ],
      "metadata": {
        "id": "jBjuCuj0tD9-"
      },
      "execution_count": 4,
      "outputs": []
    },
    {
      "cell_type": "code",
      "source": [
        "# Read the content from the file\n",
        "f1 = open(\"aaa.txt\",\"r\")\n",
        "data = f1.read()\n",
        "print(data)\n",
        "f1.close()"
      ],
      "metadata": {
        "colab": {
          "base_uri": "https://localhost:8080/"
        },
        "id": "-RDCbZ6AwNsP",
        "outputId": "a4b0cb7b-4bc9-412e-846f-58b74a25675a"
      },
      "execution_count": 8,
      "outputs": [
        {
          "output_type": "stream",
          "name": "stdout",
          "text": [
            "NTTdata, Bengaluru\n"
          ]
        }
      ]
    },
    {
      "cell_type": "code",
      "source": [
        "print(f1)"
      ],
      "metadata": {
        "colab": {
          "base_uri": "https://localhost:8080/"
        },
        "id": "mGLqWbL7xqWV",
        "outputId": "49be65b8-0afc-472a-d19e-4401777d866f"
      },
      "execution_count": 9,
      "outputs": [
        {
          "output_type": "stream",
          "name": "stdout",
          "text": [
            "<_io.TextIOWrapper name='aaa.txt' mode='r' encoding='UTF-8'>\n"
          ]
        }
      ]
    },
    {
      "cell_type": "code",
      "source": [
        "f3 = open (\"aaa.txt\", \"w\")\n",
        "print(\"File Name: \",f3.name)\n",
        "print(\"File Mode: \",f3.mode)\n",
        "print(\"File Encoding : \",f3.encoding)\n",
        "print(\"Is file closed already?: \",f3.closed)\n",
        "f3.close()\n",
        "print(\"Is file closed now?: \",f3.closed)"
      ],
      "metadata": {
        "colab": {
          "base_uri": "https://localhost:8080/"
        },
        "id": "Um2HMpIO1bnc",
        "outputId": "a3f393fb-473f-4489-819e-8f3d19110220"
      },
      "execution_count": 12,
      "outputs": [
        {
          "output_type": "stream",
          "name": "stdout",
          "text": [
            "File Name:  aaa.txt\n",
            "File Mode:  w\n",
            "File Encoding :  UTF-8\n",
            "Is file closed already?:  False\n",
            "Is file closed now?:  True\n"
          ]
        }
      ]
    },
    {
      "cell_type": "code",
      "source": [
        "f2 = open(\"aaa.txt\", mode = \"r\", buffering = 10, encoding='UTF-8' )\n",
        "if f2:\n",
        "  print(\"File opened successfully\")\n",
        "else:\n",
        "  print(\"File not opened\")"
      ],
      "metadata": {
        "colab": {
          "base_uri": "https://localhost:8080/"
        },
        "id": "MRxs2D8cxr3x",
        "outputId": "9c49838c-cbec-45ab-9c1e-cfa163432b2c"
      },
      "execution_count": 13,
      "outputs": [
        {
          "output_type": "stream",
          "name": "stdout",
          "text": [
            "File opened successfully\n"
          ]
        }
      ]
    },
    {
      "cell_type": "code",
      "source": [
        "f3 = open(\"aaa.txt\",'w')\n",
        "print(\"file name is :\", f3.name)\n",
        "print(\"file mode is :\", f3.mode)\n",
        "print(\"file encoding :\", f3.encoding)\n",
        "print(\"is file closed already?\" , f3.closed)\n",
        "f3.close()\n",
        "print(\"is file closed now?\" , f3.closed)"
      ],
      "metadata": {
        "colab": {
          "base_uri": "https://localhost:8080/"
        },
        "id": "6VztUx7o2W7g",
        "outputId": "da109a83-d9b8-431b-cf6f-2757ecec031d"
      },
      "execution_count": 16,
      "outputs": [
        {
          "output_type": "stream",
          "name": "stdout",
          "text": [
            "file name is : aaa.txt\n",
            "file mode is : w\n",
            "file encoding : UTF-8\n",
            "is file closed already? False\n",
            "is file closed now? True\n"
          ]
        }
      ]
    },
    {
      "cell_type": "code",
      "source": [
        "f4 = open(\"aaa.txt\",\"r\")\n",
        "print(\"Is file Readable?\", f4.readable())\n",
        "print(\"Is file Writable?\", f4.writable())\n",
        "f4.close()"
      ],
      "metadata": {
        "id": "qg9MfpAC3H4K",
        "outputId": "de46be33-cbd7-4cd3-a6d3-136ef0e0f568",
        "colab": {
          "base_uri": "https://localhost:8080/"
        }
      },
      "execution_count": 17,
      "outputs": [
        {
          "output_type": "stream",
          "name": "stdout",
          "text": [
            "Is file Readable? True\n",
            "Is file Writable? False\n"
          ]
        }
      ]
    },
    {
      "cell_type": "code",
      "source": [
        "f5 = open(\"aaa.txt\",\"w\")\n",
        "print(\"Is file Readable?\", f5.readable())\n",
        "print(\"Is file Writable?\", f5.writable())\n",
        "f5.close()"
      ],
      "metadata": {
        "id": "oWj7YkUy20qI",
        "outputId": "24f757bb-14f8-47c7-82b2-2ad89ac71a69",
        "colab": {
          "base_uri": "https://localhost:8080/"
        }
      },
      "execution_count": 21,
      "outputs": [
        {
          "output_type": "stream",
          "name": "stdout",
          "text": [
            "Is file Readable? False\n",
            "Is file Writable? True\n"
          ]
        }
      ]
    },
    {
      "cell_type": "code",
      "source": [
        "name = \"NTT Data, Bengaluru\"\n",
        "f6 = open(\"aaa.txt\",\"w+\")\n",
        "f6.write(name)\n",
        "f6.seek(0)\n",
        "print(f6.read())\n",
        "f6.close()"
      ],
      "metadata": {
        "id": "ahQkfvcJ3-tP",
        "outputId": "601ffb64-1fb6-4930-a9b2-ccdb07eeee4d",
        "colab": {
          "base_uri": "https://localhost:8080/"
        }
      },
      "execution_count": 22,
      "outputs": [
        {
          "output_type": "stream",
          "name": "stdout",
          "text": [
            "NTT Data, Bengaluru\n"
          ]
        }
      ]
    }
  ]
}