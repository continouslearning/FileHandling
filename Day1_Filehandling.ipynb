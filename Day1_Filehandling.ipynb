{
  "nbformat": 4,
  "nbformat_minor": 0,
  "metadata": {
    "colab": {
      "provenance": []
    },
    "kernelspec": {
      "name": "python3",
      "display_name": "Python 3"
    },
    "language_info": {
      "name": "python"
    }
  },
  "cells": [
    {
      "cell_type": "code",
      "source": [
        "# Read the content from the file\n",
        "f1 = open(\"aaa.txt\",\"r\")\n",
        "data = f1.read()\n",
        "print(data)\n",
        "f1.close()"
      ],
      "metadata": {
        "colab": {
          "base_uri": "https://localhost:8080/"
        },
        "id": "-RDCbZ6AwNsP",
        "outputId": "d7dd35dd-98ac-4452-b2d2-e2f06a9c4a51"
      },
      "execution_count": 4,
      "outputs": [
        {
          "output_type": "stream",
          "name": "stdout",
          "text": [
            "NTT Data\n"
          ]
        }
      ]
    },
    {
      "cell_type": "code",
      "source": [
        "print(f1)"
      ],
      "metadata": {
        "colab": {
          "base_uri": "https://localhost:8080/"
        },
        "id": "mGLqWbL7xqWV",
        "outputId": "a83bb5f9-a85d-46dc-d0b8-4db9926e99d0"
      },
      "execution_count": 5,
      "outputs": [
        {
          "output_type": "stream",
          "name": "stdout",
          "text": [
            "<_io.TextIOWrapper name='aaa.txt' mode='r' encoding='UTF-8'>\n"
          ]
        }
      ]
    },
    {
      "cell_type": "code",
      "source": [
        "f3 = open (\"aaa.txt\", \"w\")\n",
        "print(\"File Name: \",f3.name)\n",
        "print(\"File Mode: \",f3.mode)\n",
        "print(\"File Encoding : \",f3.encoding)\n",
        "print(\"Is file closed already?: \",f3.closed)\n",
        "f3.close()\n",
        "print(\"Is file closed now?: \",f3.closed)"
      ],
      "metadata": {
        "colab": {
          "base_uri": "https://localhost:8080/"
        },
        "id": "Um2HMpIO1bnc",
        "outputId": "f71dff24-1792-415d-a855-48a9303bc783"
      },
      "execution_count": 6,
      "outputs": [
        {
          "output_type": "stream",
          "name": "stdout",
          "text": [
            "File Name:  aaa.txt\n",
            "File Mode:  w\n",
            "File Encoding :  UTF-8\n",
            "Is file closed already?:  False\n",
            "Is file closed now?:  True\n"
          ]
        }
      ]
    },
    {
      "cell_type": "code",
      "source": [
        "f2 = open(\"aaa.txt\", mode = \"r\", buffering = 10, encoding='UTF-8' )\n",
        "if f2:\n",
        "  print(\"File opened successfully\")\n",
        "else:\n",
        "  print(\"File not opened\")"
      ],
      "metadata": {
        "colab": {
          "base_uri": "https://localhost:8080/"
        },
        "id": "MRxs2D8cxr3x",
        "outputId": "ff80248e-b1ce-413b-f8c1-5241818034af"
      },
      "execution_count": 7,
      "outputs": [
        {
          "output_type": "stream",
          "name": "stdout",
          "text": [
            "File opened successfully\n"
          ]
        }
      ]
    },
    {
      "cell_type": "code",
      "source": [
        "f3 = open(\"aaa.txt\",'w')\n",
        "print(\"file name is :\", f3.name)\n",
        "print(\"file mode is :\", f3.mode)\n",
        "print(\"file encoding :\", f3.encoding)\n",
        "print(\"is file closed already?\" , f3.closed)\n",
        "f3.close()\n",
        "print(\"is file closed now?\" , f3.closed)"
      ],
      "metadata": {
        "colab": {
          "base_uri": "https://localhost:8080/"
        },
        "id": "6VztUx7o2W7g",
        "outputId": "22fab49b-feb5-4c27-a8d9-1405274aeccb"
      },
      "execution_count": 8,
      "outputs": [
        {
          "output_type": "stream",
          "name": "stdout",
          "text": [
            "file name is : aaa.txt\n",
            "file mode is : w\n",
            "file encoding : UTF-8\n",
            "is file closed already? False\n",
            "is file closed now? True\n"
          ]
        }
      ]
    },
    {
      "cell_type": "code",
      "source": [
        "f4 = open(\"aaa.txt\",\"r\")\n",
        "print(\"Is file Readable?\", f4.readable())\n",
        "print(\"Is file Writable?\", f4.writable())\n",
        "f4.close()"
      ],
      "metadata": {
        "colab": {
          "base_uri": "https://localhost:8080/"
        },
        "id": "qg9MfpAC3H4K",
        "outputId": "c19b2c67-19d0-4cde-e800-a03a83dd0b75"
      },
      "execution_count": 9,
      "outputs": [
        {
          "output_type": "stream",
          "name": "stdout",
          "text": [
            "Is file Readable? True\n",
            "Is file Writable? False\n"
          ]
        }
      ]
    },
    {
      "cell_type": "code",
      "source": [
        "f5 = open(\"aaa.txt\",\"w\")\n",
        "print(\"Is file Readable?\", f5.readable())\n",
        "print(\"Is file Writable?\", f5.writable())\n",
        "f5.close()"
      ],
      "metadata": {
        "colab": {
          "base_uri": "https://localhost:8080/"
        },
        "id": "oWj7YkUy20qI",
        "outputId": "ea4ccfbd-eabe-4650-c8e9-abb7c2656b4b"
      },
      "execution_count": 10,
      "outputs": [
        {
          "output_type": "stream",
          "name": "stdout",
          "text": [
            "Is file Readable? False\n",
            "Is file Writable? True\n"
          ]
        }
      ]
    },
    {
      "cell_type": "code",
      "source": [
        "name = \"NTT Data, Bengaluru\"\n",
        "f6 = open(\"aaa.txt\",\"w+\")\n",
        "f6.write(name)\n",
        "f6.seek(0)\n",
        "print(f6.read())\n",
        "f6.close()"
      ],
      "metadata": {
        "colab": {
          "base_uri": "https://localhost:8080/"
        },
        "id": "ahQkfvcJ3-tP",
        "outputId": "eec197e9-5ea0-4b8d-e330-d14122395caa"
      },
      "execution_count": 11,
      "outputs": [
        {
          "output_type": "stream",
          "name": "stdout",
          "text": [
            "NTT Data, Bengaluru\n"
          ]
        }
      ]
    },
    {
      "cell_type": "code",
      "source": [
        "number = int(input(\"enter a number\"))\n",
        "f6 = open(\"aaa.txt\",\"w+\")\n",
        "f6.write(str(number))\n",
        "f6.seek(0)\n",
        "print(f6.read())\n",
        "f6.close()"
      ],
      "metadata": {
        "colab": {
          "base_uri": "https://localhost:8080/"
        },
        "id": "SZerAUOM6XOT",
        "outputId": "38c006a7-0763-4670-f546-5c79d8a46870"
      },
      "execution_count": 12,
      "outputs": [
        {
          "output_type": "stream",
          "name": "stdout",
          "text": [
            "enter a number5\n",
            "5\n"
          ]
        }
      ]
    },
    {
      "cell_type": "code",
      "source": [
        "f7 = open(\"aaa.txt\", \"r\")\n",
        "data = f7.read()\n",
        "print(data)\n",
        "f7.close()"
      ],
      "metadata": {
        "colab": {
          "base_uri": "https://localhost:8080/"
        },
        "id": "EFcXXsqs8J-e",
        "outputId": "b3d3c1f9-bc86-4222-a801-8cf2f7f29635"
      },
      "execution_count": 13,
      "outputs": [
        {
          "output_type": "stream",
          "name": "stdout",
          "text": [
            "5\n"
          ]
        }
      ]
    },
    {
      "cell_type": "code",
      "source": [
        "f8 = open(\"aaa.txt\", \"rb\")\n",
        "data = f8.read()\n",
        "print(data)\n",
        "f8.close()"
      ],
      "metadata": {
        "colab": {
          "base_uri": "https://localhost:8080/"
        },
        "id": "ZDTGlOSn8UYY",
        "outputId": "c3e72e88-8b83-4032-aa5e-78b523166a4a"
      },
      "execution_count": 14,
      "outputs": [
        {
          "output_type": "stream",
          "name": "stdout",
          "text": [
            "b'5'\n"
          ]
        }
      ]
    },
    {
      "cell_type": "code",
      "source": [
        "f9 = open(\"aaa.txt\", \"r\")\n",
        "data1 = f9.read(5)\n",
        "print(data1)\n",
        "data2 = f9.read(5)\n",
        "print(data2)\n",
        "f9.close()"
      ],
      "metadata": {
        "colab": {
          "base_uri": "https://localhost:8080/"
        },
        "id": "HGTXZd1Z8dhT",
        "outputId": "815ba5b0-9b2d-4c08-8251-18bd86828e56"
      },
      "execution_count": 15,
      "outputs": [
        {
          "output_type": "stream",
          "name": "stdout",
          "text": [
            "5\n",
            "\n"
          ]
        }
      ]
    },
    {
      "cell_type": "code",
      "source": [
        "f10 = open(\"aaa.txt\", \"r\")\n",
        "data1 = f10.readline()\n",
        "print(data1)\n",
        "data2 = f10.readline()\n",
        "print(data2)\n",
        "data3 = f10.readline()\n",
        "print(data3)\n",
        "f10.close()"
      ],
      "metadata": {
        "colab": {
          "base_uri": "https://localhost:8080/"
        },
        "id": "s-a23E0Z89KB",
        "outputId": "245bb8f1-ea75-4a61-ebf7-8b17a3888967"
      },
      "execution_count": 16,
      "outputs": [
        {
          "output_type": "stream",
          "name": "stdout",
          "text": [
            "5\n",
            "\n",
            "\n"
          ]
        }
      ]
    },
    {
      "cell_type": "code",
      "source": [
        "f10 = open(\"bbb.txt\", \"r\")\n",
        "data1 = f10.readline()\n",
        "print(data1, end='')\n",
        "data2 = f10.readline()\n",
        "print(data2, end='')\n",
        "data3 = f10.readline()\n",
        "print(data3, end='')\n",
        "f10.close()"
      ],
      "metadata": {
        "colab": {
          "base_uri": "https://localhost:8080/"
        },
        "id": "xACwa_8Y-LgW",
        "outputId": "20ddc74e-0b0e-4708-ef23-5168754b91ee"
      },
      "execution_count": 17,
      "outputs": [
        {
          "output_type": "stream",
          "name": "stdout",
          "text": [
            "NTT Data Noida (Line 1)\n",
            "NTT Data Noida (Line 2)\n",
            "NTT Data Noida (Line 3)"
          ]
        }
      ]
    },
    {
      "cell_type": "code",
      "source": [
        "f10 = open(\"bbb.txt\", \"r\")\n",
        "#data = f10.read()\n",
        "#print(data)\n",
        "data1 = f10.readline(22)\n",
        "print(data1)\n",
        "data2 = f10.readline()\n",
        "print(data2)\n",
        "data3 = f10.readline()\n",
        "print(data3)\n",
        "f10.close()"
      ],
      "metadata": {
        "colab": {
          "base_uri": "https://localhost:8080/"
        },
        "id": "P7YgNdHu-kpD",
        "outputId": "e34be44e-08f3-4a34-c710-83d8dc34f2c1"
      },
      "execution_count": 18,
      "outputs": [
        {
          "output_type": "stream",
          "name": "stdout",
          "text": [
            "NTT Data Noida (Line 1\n",
            ")\n",
            "\n",
            "NTT Data Noida (Line 2)\n",
            "\n"
          ]
        }
      ]
    },
    {
      "cell_type": "code",
      "source": [
        "f10 = open(\"aaa.txt\", \"r\")\n",
        "#data = f10.read()\n",
        "#print(data)\n",
        "data1 = f10.readline(24)\n",
        "print(data1)\n",
        "data2 = f10.readline()\n",
        "print(data2)\n",
        "data3 = f10.readline()\n",
        "print(data3)\n",
        "f10.close()"
      ],
      "metadata": {
        "colab": {
          "base_uri": "https://localhost:8080/"
        },
        "id": "YpLkmZTHATa0",
        "outputId": "eca1fc2b-b04b-4e79-c95d-0febf3c74617"
      },
      "execution_count": null,
      "outputs": [
        {
          "output_type": "stream",
          "name": "stdout",
          "text": [
            "NTT Data Noida (Line 1)\n",
            "\n",
            "NTT Data Noida (Line 2)\n",
            "\n",
            "NTT Data Noida (Line 3)\n"
          ]
        }
      ]
    },
    {
      "cell_type": "code",
      "source": [
        "f10 = open(\"bbb.txt\", \"r\")\n",
        "#data = f10.read()\n",
        "#print(data)\n",
        "data1 = f10.readline(23)\n",
        "print(data1)\n",
        "data2 = f10.readline()\n",
        "print(data2)\n",
        "data3 = f10.readline()\n",
        "print(data3)\n",
        "f10.close()"
      ],
      "metadata": {
        "colab": {
          "base_uri": "https://localhost:8080/"
        },
        "id": "nXD0RJ7LAPoB",
        "outputId": "60a5254d-07d1-4f76-8bf0-15261840e41b"
      },
      "execution_count": null,
      "outputs": [
        {
          "output_type": "stream",
          "name": "stdout",
          "text": [
            "NTT Data Noida (Line 1)\n",
            "\n",
            "\n",
            "NTT Data Noida (Line 2)\n",
            "\n"
          ]
        }
      ]
    },
    {
      "cell_type": "code",
      "source": [
        "f11 = open(\"aaa.txt\", \"r\")\n",
        "data1 = f11.readlines()\n",
        "print(data1)\n",
        "\n",
        "for i in data1:\n",
        "  print(i)\n",
        "f11.close()"
      ],
      "metadata": {
        "colab": {
          "base_uri": "https://localhost:8080/"
        },
        "id": "1JzWLE6bBnsc",
        "outputId": "b93c2992-bc51-4392-8c46-7e0e74c28a68"
      },
      "execution_count": null,
      "outputs": [
        {
          "output_type": "stream",
          "name": "stdout",
          "text": [
            "['NTT Data Noida (Line 1)\\n', 'NTT Data Noida (Line 2)\\n', 'NTT Data Noida (Line 3)\\n']\n",
            "NTT Data Noida (Line 1)\n",
            "\n",
            "NTT Data Noida (Line 2)\n",
            "\n",
            "NTT Data Noida (Line 3)\n",
            "\n"
          ]
        }
      ]
    },
    {
      "cell_type": "code",
      "source": [
        "f11 = open(\"bbb.txt\", \"r\")\n",
        "data1 = f11.readlines()\n",
        "print(data1)\n",
        "f11.close()"
      ],
      "metadata": {
        "colab": {
          "base_uri": "https://localhost:8080/"
        },
        "id": "m18cnfvnBA5_",
        "outputId": "1e1891c4-12eb-46d5-d532-542f48832ff9"
      },
      "execution_count": 19,
      "outputs": [
        {
          "output_type": "stream",
          "name": "stdout",
          "text": [
            "['NTT Data Noida (Line 1)\\n', 'NTT Data Noida (Line 2)\\n', 'NTT Data Noida (Line 3)']\n"
          ]
        }
      ]
    },
    {
      "cell_type": "code",
      "source": [],
      "metadata": {
        "id": "BlAnVUyA6gnS"
      },
      "execution_count": null,
      "outputs": []
    },
    {
      "cell_type": "markdown",
      "source": [
        "# Day2_Filehandling Files"
      ],
      "metadata": {
        "id": "H6ARWGz76T8t"
      }
    },
    {
      "cell_type": "code",
      "source": [
        "f12 = open(\"bbb.txt\", \"r\")\n",
        "data1 = f12.readlines()\n",
        "print('Datatypes & actual data are: ', type(data1),data1)\n",
        "f12.close()"
      ],
      "metadata": {
        "colab": {
          "base_uri": "https://localhost:8080/"
        },
        "id": "08KA0W1-6kE4",
        "outputId": "3f70e85f-e6c5-48da-a7ea-849ec07c7075"
      },
      "execution_count": 33,
      "outputs": [
        {
          "output_type": "stream",
          "name": "stdout",
          "text": [
            "Datatypes & actual data are:  <class 'list'> ['NTT Data Noida (Line 1)\\n', 'NTT Data Noida (Line 2)\\n', 'NTT Data Noida (Line 3)']\n"
          ]
        }
      ]
    },
    {
      "cell_type": "code",
      "source": [
        "f12 = open(\"bbb.txt\", \"r\")\n",
        "data1 = f12.readlines()\n",
        "for i in data1:\n",
        "  print('Datatypes & actual data are: ', type(i),i)\n",
        "f12.close()"
      ],
      "metadata": {
        "colab": {
          "base_uri": "https://localhost:8080/"
        },
        "id": "3hI1UMew7NAR",
        "outputId": "247b61de-46d4-4c1e-aaaf-67f39ef768e1"
      },
      "execution_count": 34,
      "outputs": [
        {
          "output_type": "stream",
          "name": "stdout",
          "text": [
            "Datatypes & actual data are:  <class 'str'> NTT Data Noida (Line 1)\n",
            "\n",
            "Datatypes & actual data are:  <class 'str'> NTT Data Noida (Line 2)\n",
            "\n",
            "Datatypes & actual data are:  <class 'str'> NTT Data Noida (Line 3)\n"
          ]
        }
      ]
    },
    {
      "cell_type": "code",
      "source": [
        "f12 = open(\"bbb.txt\", \"r\")\n",
        "print(f12.tell())\n",
        "\n",
        "data1 = f12.readline(5)\n",
        "print(data1)\n",
        "print(f12.tell())\n",
        "\n",
        "data2 = f12.readline(5)\n",
        "print(data2)\n",
        "print(f12.tell())\n",
        "\n",
        "data3 = f12.readline(5)\n",
        "print(data3)\n",
        "print(f12.tell())\n",
        "\n",
        "f12.close()"
      ],
      "metadata": {
        "colab": {
          "base_uri": "https://localhost:8080/"
        },
        "id": "UI-Nf_bJ9IKj",
        "outputId": "359eb2a3-2094-4f0d-e06b-2e9b847ca889"
      },
      "execution_count": 37,
      "outputs": [
        {
          "output_type": "stream",
          "name": "stdout",
          "text": [
            "0\n",
            "NTT D\n",
            "5\n",
            "ata N\n",
            "10\n",
            "oida \n",
            "15\n"
          ]
        }
      ]
    },
    {
      "cell_type": "code",
      "source": [
        "f12 = open(\"bbb.txt\", \"r\")\n",
        "print(f12.tell())\n",
        "\n",
        "data1 = f12.read(5)\n",
        "print(data1)\n",
        "print(f12.tell())\n",
        "\n",
        "data2 = f12.read(5)\n",
        "print(data2)\n",
        "print(f12.tell())\n",
        "\n",
        "data3 = f12.read(5)\n",
        "print(data3)\n",
        "print(f12.tell())\n",
        "\n",
        "f12.close()"
      ],
      "metadata": {
        "colab": {
          "base_uri": "https://localhost:8080/"
        },
        "id": "kow_oLk99xJz",
        "outputId": "c95d9cc6-7cbb-44d4-d9f0-1480a9dc0caf"
      },
      "execution_count": 38,
      "outputs": [
        {
          "output_type": "stream",
          "name": "stdout",
          "text": [
            "0\n",
            "NTT D\n",
            "5\n",
            "ata N\n",
            "10\n",
            "oida \n",
            "15\n"
          ]
        }
      ]
    },
    {
      "cell_type": "code",
      "source": [
        "f12 = open(\"bbb.txt\", \"r\")\n",
        "print(f12.seek(5))\n",
        "print(f12.tell())\n",
        "\n",
        "data1 = f12.read(5)\n",
        "print(data1)\n",
        "print(f12.tell())\n",
        "\n",
        "data2 = f12.read(5)\n",
        "print(data2)\n",
        "print(f12.tell())\n",
        "\n",
        "data3 = f12.read(5)\n",
        "print(data3)\n",
        "print(f12.tell())\n",
        "\n",
        "f12.close()"
      ],
      "metadata": {
        "colab": {
          "base_uri": "https://localhost:8080/"
        },
        "id": "XAZ8tuJ1-Dgz",
        "outputId": "43503a0a-0ce1-440e-c218-b811a33e9646"
      },
      "execution_count": 41,
      "outputs": [
        {
          "output_type": "stream",
          "name": "stdout",
          "text": [
            "5\n",
            "5\n",
            "ata N\n",
            "10\n",
            "oida \n",
            "15\n",
            "(Line\n",
            "20\n"
          ]
        }
      ]
    },
    {
      "cell_type": "code",
      "source": [
        "f12 = open(\"bbb.txt\", \"r\")\n",
        "print(f12.tell())\n",
        "print(f12.read(3))\n",
        "f12.seek(0)\n",
        "print(f12.read(4))\n",
        "print(f12.tell())\n",
        "f12.close()"
      ],
      "metadata": {
        "colab": {
          "base_uri": "https://localhost:8080/"
        },
        "id": "Ghw37490-rN5",
        "outputId": "15a608fd-4077-49a9-8d5a-007c57d51236"
      },
      "execution_count": 43,
      "outputs": [
        {
          "output_type": "stream",
          "name": "stdout",
          "text": [
            "0\n",
            "NTT\n",
            "NTT \n",
            "4\n"
          ]
        }
      ]
    },
    {
      "cell_type": "code",
      "source": [
        "f12 = open(\"bbb.txt\", \"r\")\n",
        "print(f12.tell())\n",
        "print(f12.read(3))\n",
        "f12.seek(0)\n",
        "print(f12.read(4))\n",
        "print(f12.tell())\n",
        "f12.close()"
      ],
      "metadata": {
        "id": "u_GeK5Kb_OJo"
      },
      "execution_count": null,
      "outputs": []
    },
    {
      "cell_type": "code",
      "source": [
        "f = open(\"ccc.txt\", \"r\")\n",
        "data = f.readlines()\n",
        "\n",
        "no_of_lines = 0\n",
        "no_of_words = 0\n",
        "no_of_characters = 0\n",
        "\n",
        "for i in data:\n",
        "  no_of_lines += 1\n",
        "  no_of_words += len(i.split())\n",
        "  no_of_characters += len(i)\n",
        "\n",
        "print('Data in the file is: ',data)\n",
        "print('No of lines in the file is: ',no_of_lines)\n",
        "print('No of words in the file is: ',no_of_words)\n",
        "print('No of characters in the file is: ',no_of_characters)\n",
        "f.close()"
      ],
      "metadata": {
        "colab": {
          "base_uri": "https://localhost:8080/"
        },
        "id": "Lro0m8QM_pkW",
        "outputId": "c359b089-23eb-448e-ad0e-f5fa0d367165"
      },
      "execution_count": 76,
      "outputs": [
        {
          "output_type": "stream",
          "name": "stdout",
          "text": [
            "Data in the file is:  ['Nttdata Banglore\\n', 'welcome\\n', 'hello world\\n']\n",
            "No of lines in the file is:  3\n",
            "No of words in the file is:  5\n",
            "No of characters in the file is:  37\n"
          ]
        }
      ]
    },
    {
      "cell_type": "code",
      "source": [
        "f = open(\"ccc.txt\", \"w\")\n",
        "f.write('ABCD\\nEFGH')\n",
        "n=f.write('abcd')\n",
        "print(n)\n",
        "f.close()\n",
        "f = open(\"ccc.txt\", \"r\")\n",
        "data = f.read()\n",
        "print(data)\n",
        "f.close()"
      ],
      "metadata": {
        "colab": {
          "base_uri": "https://localhost:8080/"
        },
        "id": "9fR0mmBPFrON",
        "outputId": "6acd87c6-8ec6-4ada-d817-6364b79c88c6"
      },
      "execution_count": 83,
      "outputs": [
        {
          "output_type": "stream",
          "name": "stdout",
          "text": [
            "4\n",
            "ABCD\n",
            "EFGHabcd\n"
          ]
        }
      ]
    },
    {
      "cell_type": "code",
      "source": [
        "f = open(\"ccc.txt\", \"w\")\n",
        "f.write('ABCD\\nEFGH')\n",
        "n=f.write('abcd')\n",
        "print(n)\n",
        "f.close()\n",
        "f = open(\"ccc.txt\", \"r\")\n",
        "data = f.read()\n",
        "print(len(data))\n",
        "print(data)\n",
        "f.close()"
      ],
      "metadata": {
        "colab": {
          "base_uri": "https://localhost:8080/"
        },
        "id": "QqdP3BdxHIOU",
        "outputId": "1ad1921a-da06-4db3-fbc1-0388eadf0852"
      },
      "execution_count": 94,
      "outputs": [
        {
          "output_type": "stream",
          "name": "stdout",
          "text": [
            "4\n",
            "13\n",
            "ABCD\n",
            "EFGHabcd\n"
          ]
        }
      ]
    },
    {
      "cell_type": "code",
      "source": [
        "f1 = open(\"ccc.txt\", \"r\")\n",
        "l = len(f1.read())\n",
        "f2.close()\n",
        "f2 = open(\"ccc.txt\", \"w\")\n",
        "f2.seek(l+1)\n",
        "f2.write('ABCD\\nEFGH')\n",
        "n=f2.write('abcd')\n",
        "print(n)\n",
        "f2.close()\n",
        "f3 = open(\"ccc.txt\", \"r\")\n",
        "data = f3.read()\n",
        "print(len(data))\n",
        "print(data)\n",
        "f3.close()"
      ],
      "metadata": {
        "colab": {
          "base_uri": "https://localhost:8080/"
        },
        "id": "jYw8SnwLHgIs",
        "outputId": "97976ffe-1832-41f0-d084-f4f92d4e4ee5"
      },
      "execution_count": 95,
      "outputs": [
        {
          "output_type": "stream",
          "name": "stdout",
          "text": [
            "4\n",
            "27\n",
            "\u0000\u0000\u0000\u0000\u0000\u0000\u0000\u0000\u0000\u0000\u0000\u0000\u0000\u0000ABCD\n",
            "EFGHabcd\n"
          ]
        }
      ]
    },
    {
      "cell_type": "code",
      "source": [
        "#Copying from one file to another\n",
        "f1 = open(\"ccc.txt\", \"r\")\n",
        "data = f1.readlines()\n",
        "print(data)\n",
        "f1.close()\n",
        "f2 = open(\"ddd.txt\", \"w\")\n",
        "for i in data:\n",
        "  f2.write(i)\n",
        "f2.close()"
      ],
      "metadata": {
        "colab": {
          "base_uri": "https://localhost:8080/"
        },
        "id": "setFePfNIN7A",
        "outputId": "2ae469ea-3f58-4f91-bed4-19b4936c47ae"
      },
      "execution_count": 98,
      "outputs": [
        {
          "output_type": "stream",
          "name": "stdout",
          "text": [
            "['ABCD\\n', 'EFGHabcd']\n"
          ]
        }
      ]
    },
    {
      "cell_type": "code",
      "source": [
        "#Copying from one file to another\n",
        "f1 = open(\"ccc.txt\", \"r\")\n",
        "data = f1.readlines()\n",
        "print(data)\n",
        "f1.close()\n",
        "#Used x mode to create a new file\n",
        "f2 = open(\"eee.txt\", \"x\")\n",
        "for i in data:\n",
        "  f2.write(i)\n",
        "f2.close()"
      ],
      "metadata": {
        "colab": {
          "base_uri": "https://localhost:8080/"
        },
        "id": "YEXtrEkTKLbA",
        "outputId": "42dffc9e-dca7-44a1-fee5-4b548c2b569e"
      },
      "execution_count": 99,
      "outputs": [
        {
          "output_type": "stream",
          "name": "stdout",
          "text": [
            "['ABCD\\n', 'EFGHabcd']\n"
          ]
        }
      ]
    },
    {
      "cell_type": "code",
      "source": [
        "f1 = open(\"fff.txt\", \"x\")\n",
        "f1.write('ABC\\nDEF')\n",
        "f1.close()\n",
        "f2 = open(\"ggg.txt\", \"x\")\n",
        "f2.write('\\nGHI\\nJKL')\n",
        "f2.close()\n",
        "f3 = open(\"hhh.txt\", \"x\")\n",
        "f3.write('\\nMNO\\nPQR')\n",
        "f3.close()"
      ],
      "metadata": {
        "id": "68YNbp64K1Mw"
      },
      "execution_count": 102,
      "outputs": []
    },
    {
      "cell_type": "code",
      "source": [
        "#Merging multiple text files\n",
        "\n",
        "mergedata = \"\"\n",
        "files = ['fff.txt','ggg.txt','hhh.txt']\n",
        "for i in files:\n",
        "  f = open(i,'r')\n",
        "  mergedata = mergedata + f.read()\n",
        "  f.close()\n",
        "\n",
        "f = open('iii.txt','x')\n",
        "f.write(mergedata)\n",
        "f.close()"
      ],
      "metadata": {
        "id": "kcP6jJI6KcoS"
      },
      "execution_count": 103,
      "outputs": []
    },
    {
      "cell_type": "code",
      "source": [
        "f = open('iii.txt','r+')\n",
        "data1 = f.read()\n",
        "print(data1)\n",
        "f.write('\\n')\n",
        "f.write('XYZ')\n",
        "print('-------------------------------')\n",
        "# Reset file pointer to the beginning\n",
        "f.seek(0)\n",
        "data2 = f.read()\n",
        "print(data2)\n",
        "f.close()"
      ],
      "metadata": {
        "id": "ZGvq7ld-NLZD",
        "outputId": "163289ca-f3d0-4d63-a03e-b45a44775e61",
        "colab": {
          "base_uri": "https://localhost:8080/"
        }
      },
      "execution_count": 114,
      "outputs": [
        {
          "output_type": "stream",
          "name": "stdout",
          "text": [
            "ABC\n",
            "DEF\n",
            "GHI\n",
            "JKL\n",
            "MNO\n",
            "PQR\n",
            "-------------------------------\n",
            "ABC\n",
            "DEF\n",
            "GHI\n",
            "JKL\n",
            "MNO\n",
            "PQR\n",
            "XYZ\n"
          ]
        }
      ]
    },
    {
      "cell_type": "code",
      "source": [
        "f = open('jjj.txt','x')\n",
        "f.close()\n",
        "f = open('jjj.txt','w+')\n",
        "data1 = f.read()\n",
        "print(data1)\n",
        "f.write('\\n')\n",
        "f.write('XYZ')\n",
        "f.seek(0)\n",
        "data2 = f.read()\n",
        "print(data2)\n",
        "f.close()"
      ],
      "metadata": {
        "id": "oykpc5CIPT-2",
        "outputId": "7b8d5cb9-7d7e-406c-8835-f791e5bd1a35",
        "colab": {
          "base_uri": "https://localhost:8080/"
        }
      },
      "execution_count": 115,
      "outputs": [
        {
          "output_type": "stream",
          "name": "stdout",
          "text": [
            "\n",
            "\n",
            "XYZ\n"
          ]
        }
      ]
    }
  ]
}